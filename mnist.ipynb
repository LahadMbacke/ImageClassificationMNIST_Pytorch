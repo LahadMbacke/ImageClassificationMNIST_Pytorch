{
 "cells": [
  {
   "cell_type": "code",
   "execution_count": 38,
   "metadata": {},
   "outputs": [],
   "source": [
    "import torch\n",
    "from torch import nn\n",
    "import torch.nn.functional as F\n",
    "from torch.utils.data import DataLoader\n",
    "from torchvision import datasets\n",
    "from torchvision.transforms import ToTensor,transforms\n",
    "\n",
    "# print(\"Torch Version:\", torch.__version__)\n",
    "# print(\"Torchvision Version:\", torchvision.__version__)\n"
   ]
  },
  {
   "cell_type": "code",
   "execution_count": 39,
   "metadata": {},
   "outputs": [],
   "source": [
    "trainig_data = datasets.MNIST(\n",
    "    root = \"data\",\n",
    "    train=True,\n",
    "    download=True,\n",
    "    transform=ToTensor()\n",
    "\n",
    ")\n",
    "\n",
    "test_data = datasets.MNIST(\n",
    "    root = \"data\",\n",
    "    train=False,\n",
    "    download=True,\n",
    "    transform=ToTensor()\n",
    "\n",
    ")"
   ]
  },
  {
   "cell_type": "code",
   "execution_count": 40,
   "metadata": {},
   "outputs": [
    {
     "name": "stdout",
     "output_type": "stream",
     "text": [
      "Shape of X [N, C, H, W]: torch.Size([64, 1, 28, 28])\n",
      "Shape of y: torch.Size([64]) torch.int64\n"
     ]
    }
   ],
   "source": [
    "transform = transforms.Compose([\n",
    "    transforms.ToTensor(),\n",
    "    transforms.Normalize((0.5,), (0.5,))\n",
    "])\n",
    "\n",
    "\n",
    "batch_size = 64\n",
    "train_dataloader = DataLoader(trainig_data,batch_size=batch_size)\n",
    "test_dataloader = DataLoader(test_data,batch_size=batch_size)\n",
    "\n",
    "for X, y in test_dataloader:\n",
    "    print(f\"Shape of X [N, C, H, W]: {X.shape}\")\n",
    "    print(f\"Shape of y: {y.shape} {y.dtype}\")\n",
    "    break"
   ]
  },
  {
   "cell_type": "code",
   "execution_count": 41,
   "metadata": {},
   "outputs": [
    {
     "name": "stdout",
     "output_type": "stream",
     "text": [
      "Using cpu device\n",
      "Imnet(\n",
      "  (conv1): Conv2d(1, 32, kernel_size=(3, 3), stride=(1, 1), padding=(1, 1))\n",
      "  (conv2): Conv2d(32, 64, kernel_size=(3, 3), stride=(1, 1), padding=(1, 1))\n",
      "  (pool): MaxPool2d(kernel_size=2, stride=2, padding=0, dilation=1, ceil_mode=False)\n",
      "  (fc1): Linear(in_features=3136, out_features=128, bias=True)\n",
      "  (fc2): Linear(in_features=128, out_features=10, bias=True)\n",
      ")\n"
     ]
    }
   ],
   "source": [
    "# Get cpu, gpu or mps device for training.\n",
    "device = (\n",
    "    \"cuda\"\n",
    "    if torch.cuda.is_available()\n",
    "    else \"mps\"\n",
    "    if torch.backends.mps.is_available()\n",
    "    else \"cpu\"\n",
    ")\n",
    "print(f\"Using {device} device\")\n",
    "\n",
    "class Imnet(nn.Module):\n",
    " \n",
    "    def __init__(self):\n",
    "        super(Imnet, self).__init__()\n",
    "        self.conv1 = nn.Conv2d(in_channels=1, out_channels=32, kernel_size=3, padding=1)  # Garder la même taille en utilisant padding=1\n",
    "        self.conv2 = nn.Conv2d(in_channels=32, out_channels=64, kernel_size=3, padding=1)  # Garder la même taille en utilisant padding=1\n",
    "        self.pool = nn.MaxPool2d(kernel_size=2, stride=2, padding=0)\n",
    "        self.fc1 = nn.Linear(64 * 7 * 7, 128)\n",
    "        self.fc2 = nn.Linear(128, 10)\n",
    "\n",
    "    def forward(self,x):\n",
    "        x = self.pool(F.relu(self.conv1(x)))\n",
    "        x = self.pool(F.relu(self.conv2(x)))\n",
    "        x = x.view(-1, 64 * 7 * 7) \n",
    "\n",
    "        x = F.relu(self.fc1(x))\n",
    "        x = self.fc2(x)\n",
    "        return x\n",
    "\n",
    "model = Imnet().to(device)\n",
    "print(model)\n"
   ]
  },
  {
   "cell_type": "code",
   "execution_count": 42,
   "metadata": {},
   "outputs": [],
   "source": [
    "loss_fn = nn.CrossEntropyLoss()\n",
    "optimizer = torch.optim.SGD(model.parameters(),lr=1e-3)"
   ]
  },
  {
   "cell_type": "code",
   "execution_count": 43,
   "metadata": {},
   "outputs": [],
   "source": [
    "def train(dataloader,model,loss_fn,optimizer):\n",
    "    size = len(dataloader.dataset)\n",
    "    model.train()\n",
    "    for batch,(X,y) in enumerate(dataloader):\n",
    "        X,y = X.to(device),y.to(device) \n",
    "        \n",
    "        # Compute prediction error\n",
    "        pred = model(X)\n",
    "        loss = loss_fn(pred,y)\n",
    "\n",
    "        # Backpropagation\n",
    "        loss.backward()\n",
    "        optimizer.step()\n",
    "        optimizer.zero_grad()\n",
    "\n",
    "        if batch % 100 == 0:\n",
    "            loss, current = loss.item(), (batch + 1) * len(X)\n",
    "            print(f\"loss: {loss:>7f}  [{current:>5d}/{size:>5d}]\")\n"
   ]
  },
  {
   "cell_type": "code",
   "execution_count": 44,
   "metadata": {},
   "outputs": [],
   "source": [
    "def test(dataloader, model, loss_fn):\n",
    "    size = len(dataloader.dataset)\n",
    "    num_batches = len(dataloader)\n",
    "    model.eval()\n",
    "    test_loss, correct = 0, 0\n",
    "    with torch.no_grad():\n",
    "        for X, y in dataloader:\n",
    "            X, y = X.to(device), y.to(device)\n",
    "            pred = model(X)\n",
    "            test_loss += loss_fn(pred, y).item()\n",
    "            correct += (pred.argmax(1) == y).type(torch.float).sum().item()\n",
    "    test_loss /= num_batches\n",
    "    correct /= size\n",
    "    print(f\"Test Error: \\n Accuracy: {(100*correct):>0.1f}%, Avg loss: {test_loss:>8f} \\n\")"
   ]
  },
  {
   "cell_type": "code",
   "execution_count": 45,
   "metadata": {},
   "outputs": [
    {
     "name": "stdout",
     "output_type": "stream",
     "text": [
      "Epoch 1\n",
      "-------------------------------\n",
      "loss: 2.310461  [   64/60000]\n",
      "loss: 2.300370  [ 6464/60000]\n",
      "loss: 2.302148  [12864/60000]\n",
      "loss: 2.297248  [19264/60000]\n",
      "loss: 2.294058  [25664/60000]\n",
      "loss: 2.295046  [32064/60000]\n",
      "loss: 2.302509  [38464/60000]\n",
      "loss: 2.283924  [44864/60000]\n",
      "loss: 2.288185  [51264/60000]\n",
      "loss: 2.293376  [57664/60000]\n",
      "Test Error: \n",
      " Accuracy: 11.1%, Avg loss: 2.286382 \n",
      "\n",
      "Epoch 2\n",
      "-------------------------------\n",
      "loss: 2.289532  [   64/60000]\n",
      "loss: 2.281115  [ 6464/60000]\n",
      "loss: 2.282941  [12864/60000]\n",
      "loss: 2.272491  [19264/60000]\n",
      "loss: 2.274923  [25664/60000]\n",
      "loss: 2.276240  [32064/60000]\n",
      "loss: 2.273045  [38464/60000]\n",
      "loss: 2.264050  [44864/60000]\n",
      "loss: 2.262798  [51264/60000]\n",
      "loss: 2.259432  [57664/60000]\n",
      "Test Error: \n",
      " Accuracy: 40.3%, Avg loss: 2.256212 \n",
      "\n",
      "Epoch 3\n",
      "-------------------------------\n",
      "loss: 2.258898  [   64/60000]\n",
      "loss: 2.247649  [ 6464/60000]\n",
      "loss: 2.247531  [12864/60000]\n",
      "loss: 2.231264  [19264/60000]\n",
      "loss: 2.235343  [25664/60000]\n",
      "loss: 2.235072  [32064/60000]\n",
      "loss: 2.214531  [38464/60000]\n",
      "loss: 2.216963  [44864/60000]\n",
      "loss: 2.205155  [51264/60000]\n",
      "loss: 2.187383  [57664/60000]\n",
      "Test Error: \n",
      " Accuracy: 64.8%, Avg loss: 2.185920 \n",
      "\n",
      "Epoch 4\n",
      "-------------------------------\n",
      "loss: 2.189106  [   64/60000]\n",
      "loss: 2.165437  [ 6464/60000]\n",
      "loss: 2.160026  [12864/60000]\n",
      "loss: 2.124347  [19264/60000]\n",
      "loss: 2.122610  [25664/60000]\n",
      "loss: 2.111413  [32064/60000]\n",
      "loss: 2.041615  [38464/60000]\n",
      "loss: 2.057467  [44864/60000]\n",
      "loss: 2.014173  [51264/60000]\n",
      "loss: 1.941665  [57664/60000]\n",
      "Test Error: \n",
      " Accuracy: 72.8%, Avg loss: 1.932363 \n",
      "\n",
      "Epoch 5\n",
      "-------------------------------\n",
      "loss: 1.941738  [   64/60000]\n",
      "loss: 1.854719  [ 6464/60000]\n",
      "loss: 1.819272  [12864/60000]\n",
      "loss: 1.704116  [19264/60000]\n",
      "loss: 1.648614  [25664/60000]\n",
      "loss: 1.580418  [32064/60000]\n",
      "loss: 1.359073  [38464/60000]\n",
      "loss: 1.402241  [44864/60000]\n",
      "loss: 1.291405  [51264/60000]\n",
      "loss: 1.124918  [57664/60000]\n",
      "Test Error: \n",
      " Accuracy: 77.4%, Avg loss: 1.091498 \n",
      "\n",
      "Done!\n"
     ]
    }
   ],
   "source": [
    "epochs = 5\n",
    "for t in range(epochs):\n",
    "    print(f\"Epoch {t+1}\\n-------------------------------\")\n",
    "    train(train_dataloader, model, loss_fn, optimizer)\n",
    "    test(test_dataloader, model, loss_fn)\n",
    "print(\"Done!\")"
   ]
  }
 ],
 "metadata": {
  "kernelspec": {
   "display_name": ".venv",
   "language": "python",
   "name": "python3"
  },
  "language_info": {
   "codemirror_mode": {
    "name": "ipython",
    "version": 3
   },
   "file_extension": ".py",
   "mimetype": "text/x-python",
   "name": "python",
   "nbconvert_exporter": "python",
   "pygments_lexer": "ipython3",
   "version": "3.10.12"
  }
 },
 "nbformat": 4,
 "nbformat_minor": 2
}
